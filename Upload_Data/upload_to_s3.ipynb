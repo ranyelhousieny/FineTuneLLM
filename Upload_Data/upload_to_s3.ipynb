{
 "cells": [
  {
   "cell_type": "markdown",
   "id": "32787765-9fe5-4761-9a85-06651f2bb958",
   "metadata": {},
   "source": [
    "### Upload train and validation Text Documents to AWS S3 for LLM Fine-Tuning with Sagemaker"
   ]
  },
  {
   "cell_type": "markdown",
   "id": "2d89888f-5d42-4e4c-9d4f-f44d747610ee",
   "metadata": {},
   "source": [
    "### Create an AWS S3 Bucket\n",
    "Amazon S3 (Simple Storage Service) provides scalable object storage, and it's a foundational element for data storage in AWS. Here's how you can create an S3 bucket:\n",
    "Prerequisites\n",
    "Ensure you have an AWS account and have set up AWS CLI with the necessary permissions. We will use the session credentials from AWS Sagemaker Notebook"
   ]
  },
  {
   "cell_type": "markdown",
   "metadata": {},
   "source": [
    "### Step 1: Initialize Boto3 and S3 Client\n",
    "\n",
    "We start by importing boto3 and setting up an S3 client. Boto3 is the AWS SDK for Python, which allows Python developers to write software that uses AWS services.\n"
   ]
  },
  {
   "cell_type": "code",
   "execution_count": 3,
   "id": "b1d5f1ea-cb79-42d5-a6e8-005d46b96c45",
   "metadata": {
    "tags": []
   },
   "outputs": [],
   "source": [
    "import boto3\n",
    "\n",
    "aws_session = boto3.Session()\n",
    "s3_client = aws_session.client('s3')"
   ]
  },
  {
   "cell_type": "markdown",
   "metadata": {},
   "source": [
    "### Step 2: Define and Create Your Bucket\n",
    "\n",
    "We then define a unique name for our bucket and create it. AWS S3 bucket names are globally unique."
   ]
  },
  {
   "cell_type": "code",
   "execution_count": 9,
   "id": "498b9511-2d6c-485a-873a-8eb5e2bc8523",
   "metadata": {
    "tags": []
   },
   "outputs": [],
   "source": [
    "\n",
    "bucket_name = 'rany-domain-adaptation-training-sagemaker'\n",
    "s3_client.create_bucket(Bucket=bucket_name)"
   ]
  },
  {
   "cell_type": "markdown",
   "metadata": {},
   "source": [
    "### Step 3: Upload Files to S3\n",
    "\n",
    "The following code demonstrates how to upload files. We use upload_fileobj, which allows for uploading files directly from the file system."
   ]
  },
  {
   "cell_type": "code",
   "execution_count": 11,
   "id": "c98544d4-2b6f-4bc4-adb2-55b671681879",
   "metadata": {
    "tags": []
   },
   "outputs": [
    {
     "name": "stdout",
     "output_type": "stream",
     "text": [
      "'train.txt' has been uploaded to 'rany-domain-adaptation-training-sagemaker' as 'domain_adaptation/gptj6b/train/train.txt'.\n"
     ]
    }
   ],
   "source": [
    "from botocore.exceptions import ClientError\n",
    "\n",
    "# Upload the train file\n",
    "train_object_name = 'domain_adaptation/gptj6b/train/train.txt'\n",
    "train_file_name = 'train.txt'\n",
    "try:\n",
    "    with open(train_file_name, 'rb') as file:\n",
    "        s3_client.upload_fileobj(file, bucket_name, train_object_name)  # Pass 'file' instead of 'file_name'\n",
    "    print(f\"'{train_file_name}' has been uploaded to '{bucket_name}' as '{train_object_name}'.\")\n",
    "except ClientError as e:\n",
    "    print(f\"Error: {e}\")\n",
    "except FileNotFoundError:\n",
    "    print(\"The file was not found. Please check the file path.\")"
   ]
  },
  {
   "cell_type": "code",
   "execution_count": null,
   "id": "1580be15-f47a-4393-b135-71c1db1568a3",
   "metadata": {},
   "outputs": [],
   "source": []
  },
  {
   "cell_type": "code",
   "execution_count": 12,
   "id": "40aba105-047e-4bb9-b963-a7de575f5fd2",
   "metadata": {
    "tags": []
   },
   "outputs": [
    {
     "name": "stdout",
     "output_type": "stream",
     "text": [
      "'validation.txt' has been uploaded to 'rany-domain-adaptation-training-sagemaker' as 'domain_adaptation/gptj6b/validation/validation.txt'.\n"
     ]
    }
   ],
   "source": [
    "# Upload the validation file\n",
    "validation_object_name = 'domain_adaptation/gptj6b/validation/validation.txt'\n",
    "validation_file_name = 'validation.txt'\n",
    "try:\n",
    "    with open(validation_file_name, 'rb') as file:\n",
    "        s3_client.upload_fileobj(file, bucket_name, validation_object_name)  # Pass 'file' instead of 'file_name'\n",
    "    print(f\"'{validation_file_name}' has been uploaded to '{bucket_name}' as '{validation_object_name}'.\")\n",
    "except ClientError as e:\n",
    "    print(f\"Error: {e}\")\n",
    "except FileNotFoundError:\n",
    "    print(\"The file was not found. Please check the file path.\")"
   ]
  },
  {
   "cell_type": "markdown",
   "metadata": {},
   "source": [
    "### Listing the Contents of Your S3 Bucket\n",
    "\n",
    "Finally, to verify that your files are uploaded, you can list the contents of your bucket."
   ]
  },
  {
   "cell_type": "code",
   "execution_count": 13,
   "id": "5bb34dd7-f72a-4807-a39b-bd4fd7cf89a8",
   "metadata": {
    "tags": []
   },
   "outputs": [
    {
     "name": "stdout",
     "output_type": "stream",
     "text": [
      "domain_adaptation/gptj6b/train/train.txt\n",
      "domain_adaptation/gptj6b/validation/validation.txt\n"
     ]
    }
   ],
   "source": [
    "# Specify the prefix (folder path)\n",
    "prefix = 'domain_adaptation/gptj6b/'\n",
    "\n",
    "# List objects within the specified prefix\n",
    "response = s3_client.list_objects_v2(Bucket=bucket_name, Prefix=prefix)\n",
    "\n",
    "# Check if 'Contents' key is in the response (it's not present if the directory is empty or does not exist)\n",
    "if 'Contents' in response:\n",
    "    # Iterate through the objects in the response and print their names\n",
    "    for obj in response['Contents']:\n",
    "        print(obj['Key'])\n",
    "else:\n",
    "    print(\"No objects found in the specified path.\")"
   ]
  }
 ],
 "metadata": {
  "kernelspec": {
   "display_name": "conda_python3",
   "language": "python",
   "name": "conda_python3"
  },
  "language_info": {
   "codemirror_mode": {
    "name": "ipython",
    "version": 3
   },
   "file_extension": ".py",
   "mimetype": "text/x-python",
   "name": "python",
   "nbconvert_exporter": "python",
   "pygments_lexer": "ipython3",
   "version": "3.10.13"
  }
 },
 "nbformat": 4,
 "nbformat_minor": 5
}
